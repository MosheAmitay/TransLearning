{
  "nbformat": 4,
  "nbformat_minor": 0,
  "metadata": {
    "colab": {
      "name": "make_any_CV.ipynb",
      "provenance": [],
      "collapsed_sections": [],
      "authorship_tag": "ABX9TyP0s63cWgwklIn1byifHKRP",
      "include_colab_link": true
    },
    "kernelspec": {
      "name": "python3",
      "display_name": "Python 3"
    },
    "language_info": {
      "name": "python"
    }
  },
  "cells": [
    {
      "cell_type": "markdown",
      "metadata": {
        "id": "view-in-github",
        "colab_type": "text"
      },
      "source": [
        "<a href=\"https://colab.research.google.com/github/MosheAmitay/TranferLearning/blob/main/make_any_CV.ipynb\" target=\"_parent\"><img src=\"https://colab.research.google.com/assets/colab-badge.svg\" alt=\"Open In Colab\"/></a>"
      ]
    },
    {
      "cell_type": "markdown",
      "source": [
        "The goal of this script is to creat CV from carotid/clean dataset:\n",
        "The user should provide:\n",
        "\n",
        "CV_num - number of CV folds\n",
        "Carotid_images_ineach_Fold - number of carotid images in each fold \n",
        "Clean_images_ineach_Fold - number of clean images in each fold \n",
        "path_to_CV_dir - path for the output CV directory \n",
        "path_to_carotid - path for the source carotid images\n",
        "path_to_clean - path for the source clean images\n"
      ],
      "metadata": {
        "id": "PPF4PCj1tgf2"
      }
    },
    {
      "cell_type": "code",
      "source": [
        "from google.colab import drive\n",
        "drive.mount('/content/gdrive')"
      ],
      "metadata": {
        "colab": {
          "base_uri": "https://localhost:8080/"
        },
        "id": "H1kzaCL9xgR4",
        "outputId": "6ff1607d-17c9-4272-9585-43b283f07cf6"
      },
      "execution_count": null,
      "outputs": [
        {
          "output_type": "stream",
          "name": "stdout",
          "text": [
            "Mounted at /content/gdrive\n"
          ]
        }
      ]
    },
    {
      "cell_type": "code",
      "source": [
        "!rm -r gdrive/MyDrive/data_sets/panoramic/CV_version01/CV_7\n",
        "!mkdir gdrive/MyDrive/data_sets/panoramic/CV_version01/CV_7"
      ],
      "metadata": {
        "id": "io3Dgff-9B9z"
      },
      "execution_count": null,
      "outputs": []
    },
    {
      "cell_type": "code",
      "execution_count": null,
      "metadata": {
        "id": "WFEJqhEQtdGb"
      },
      "outputs": [],
      "source": [
        "path_to_carotid = \"gdrive/MyDrive/data_sets/panoramic/all_poria_clean_tritcues_vs_carotid_MosheCheck_02_orig/All_Poria_Ver_01/with_carotid/\" \n",
        "path_to_clean = \"gdrive/MyDrive/data_sets/panoramic/all_poria_clean_tritcues_vs_carotid_MosheCheck_02_orig/All_Poria_Ver_01/clean/\"\n",
        "\n",
        "CV_num = 7   \n",
        "\n",
        "Carotid_images_ineach_Fold  = 24\n",
        "Clean_images_ineach_Fold  = 120\n",
        "\n",
        "path_to_output_CV_dir = \"gdrive/MyDrive/data_sets/panoramic/CV_version01/CV_7/\"\n"
      ]
    },
    {
      "cell_type": "code",
      "source": [
        "# prepare direcotries of each fold\n",
        "import os\n",
        "for i in range(CV_num):\n",
        "    os.mkdir(path_to_output_CV_dir + \"fold_\" + str(i))\n",
        "    os.mkdir(path_to_output_CV_dir + \"fold_\" + str(i) + \"/train/\")\n",
        "    os.mkdir(path_to_output_CV_dir + \"fold_\" + str(i) + \"/train/clean/\")\n",
        "    os.mkdir(path_to_output_CV_dir + \"fold_\" + str(i) + \"/train/with_carotid\")\n",
        "    os.mkdir(path_to_output_CV_dir + \"fold_\" + str(i) + \"/test/\")\n",
        "    os.mkdir(path_to_output_CV_dir + \"fold_\" + str(i) + \"/test/clean\")\n",
        "    os.mkdir(path_to_output_CV_dir + \"fold_\" + str(i) + \"/test/with_carotid\") "
      ],
      "metadata": {
        "id": "NUcdZWe6xnZ9"
      },
      "execution_count": null,
      "outputs": []
    },
    {
      "cell_type": "code",
      "source": [
        "# copy carotid  images to the \"with_carotid\" of test in each fold \n",
        "import random,shutil\n",
        "\n",
        "carotid_list = os.listdir(path_to_carotid)\n",
        "clean_list = os.listdir(path_to_clean)\n",
        "\n",
        "for i in range(CV_num):\n",
        "  carotid_forTest = random.sample(carotid_list, Carotid_images_ineach_Fold)\n",
        "  carotid_list = [img for img in carotid_list if img not in carotid_forTest]\n",
        "  \n",
        "\n",
        "  for name in carotid_forTest:\n",
        "    shutil.copy(path_to_carotid+name, path_to_output_CV_dir+\"fold_\"+str(i)+\"/test/with_carotid/\"+name )\n",
        "  \n",
        "    "
      ],
      "metadata": {
        "id": "-f1xxVZEy3xa"
      },
      "execution_count": null,
      "outputs": []
    },
    {
      "cell_type": "code",
      "source": [
        "# copy clean  images to the \"with_carotid\" of test in each fold\n",
        "\n",
        "clean_list = os.listdir(path_to_clean)\n",
        "folds=0\n",
        "while Clean_images_ineach_Fold <= len(clean_list):\n",
        "   \n",
        "   print(Clean_images_ineach_Fold, len(clean_list))\n",
        "   clean_forTest = random.sample(clean_list, Clean_images_ineach_Fold)\n",
        "   clean_list = [img for img in clean_list if img not in clean_forTest]\n",
        "   \n",
        "   for name in clean_forTest:\n",
        "       shutil.copy(path_to_clean+name, path_to_output_CV_dir+\"fold_\"+str(folds)+\"/test/clean/\"+name )\n",
        "   folds+=1\n",
        "  "
      ],
      "metadata": {
        "colab": {
          "base_uri": "https://localhost:8080/"
        },
        "id": "5DDeOXNw-vla",
        "outputId": "26188519-98db-4695-d0fa-f7e15673855a"
      },
      "execution_count": null,
      "outputs": [
        {
          "output_type": "stream",
          "name": "stdout",
          "text": [
            "120 480\n",
            "120 360\n",
            "120 240\n",
            "120 120\n"
          ]
        }
      ]
    },
    {
      "cell_type": "code",
      "source": [
        "# when the folds of carotid larger than clean folds\n",
        "#\n",
        "#\n",
        "\n",
        "j=0\n",
        "for i in range(folds,CV_num):\n",
        "  os.rmdir(path_to_output_CV_dir+\"fold_\"+str(i)+\"/test/clean\")\n",
        "  shutil.copytree(path_to_output_CV_dir+\"fold_\"+str(j)+\"/test/clean\", path_to_output_CV_dir+\"fold_\"+str(i)+\"/test/clean\")\n",
        "  print (\"copy_from\", path_to_output_CV_dir+\"fold_\"+str(j)+\"/test/clean\",\" to:  \",path_to_output_CV_dir+\"fold_\"+str(i)+\"/test/clean\")\n",
        "  j+=1"
      ],
      "metadata": {
        "colab": {
          "base_uri": "https://localhost:8080/"
        },
        "id": "JVHtVZqLz97x",
        "outputId": "44f64ca4-ee27-422d-c6b6-9ea4b9671b4a"
      },
      "execution_count": null,
      "outputs": [
        {
          "output_type": "stream",
          "name": "stdout",
          "text": [
            "copy_from gdrive/MyDrive/data_sets/panoramic/CV_version01/CV_7/fold_0/test/clean  to:   gdrive/MyDrive/data_sets/panoramic/CV_version01/CV_7/fold_4/test/clean\n",
            "copy_from gdrive/MyDrive/data_sets/panoramic/CV_version01/CV_7/fold_1/test/clean  to:   gdrive/MyDrive/data_sets/panoramic/CV_version01/CV_7/fold_5/test/clean\n",
            "copy_from gdrive/MyDrive/data_sets/panoramic/CV_version01/CV_7/fold_2/test/clean  to:   gdrive/MyDrive/data_sets/panoramic/CV_version01/CV_7/fold_6/test/clean\n"
          ]
        }
      ]
    },
    {
      "cell_type": "code",
      "source": [
        "# arrange the validation directory\n",
        "#\n",
        "\n",
        "for i in range(CV_num):\n",
        "  if i==CV_num-1:\n",
        "    j=0\n",
        "  else:\n",
        "    j=i+1\n",
        "  shutil.copytree(path_to_output_CV_dir+\"fold_\"+str(j)+\"/test/\",     path_to_output_CV_dir+\"fold_\"+str(i)+\"/val/\")\n"
      ],
      "metadata": {
        "id": "TctUJutrLg2b"
      },
      "execution_count": null,
      "outputs": []
    },
    {
      "cell_type": "code",
      "source": [
        "# copy the train images for each fold\n",
        "\n",
        "def f():\n",
        "  for img in carotid_list:\n",
        "    if img not in valtest_images:\n",
        "      shutil.copy(path_to_carotid+img, path_to_output_CV_dir+\"fold_\"+str(i)+\"/train/with_carotid/\"+img )\n",
        "  \n",
        "  for img in clean_list:\n",
        "    if img not in valtest_images:\n",
        "      shutil.copy(path_to_clean+img, path_to_output_CV_dir+\"fold_\"+str(i)+\"/train/clean/\"+img )\n",
        "\n",
        "\n",
        "valtest_images=[]\n",
        "carotid_list = os.listdir(path_to_carotid)\n",
        "clean_list = os.listdir(path_to_clean)\n",
        "for i in range(CV_num):\n",
        "  for valtest in [\"/val\",\"/test\"]:\n",
        "    for classes in  [\"/with_carotid\",\"/clean\"]:\n",
        "      valtest_images = valtest_images + os.listdir(path_to_output_CV_dir+\"fold_\"+str(i)+valtest+classes)\n",
        "  print(i, len(valtest_images))\n",
        "  f()  \n",
        "  valtest_images=[]\n"
      ],
      "metadata": {
        "colab": {
          "base_uri": "https://localhost:8080/"
        },
        "id": "oq_ON3euNQXd",
        "outputId": "935a643a-e25b-4ee6-8bee-4d6b00453c98"
      },
      "execution_count": null,
      "outputs": [
        {
          "output_type": "stream",
          "name": "stdout",
          "text": [
            "0 288\n",
            "1 288\n",
            "2 288\n",
            "3 288\n",
            "4 288\n",
            "5 288\n",
            "6 288\n"
          ]
        }
      ]
    },
    {
      "cell_type": "code",
      "source": [
        "!ls gdrive/MyDrive/data_sets/panoramic/CV_version01/CV_7/fold_0/train/clean/L_10587498.png\n",
        "!ls gdrive/MyDrive/data_sets/panoramic/CV_version01/CV_7/fold_0/val/clean/L_10587498.png\n",
        "!ls gdrive/MyDrive/data_sets/panoramic/CV_version01/CV_7/fold_0/test/clean/L_10587498.png"
      ],
      "metadata": {
        "colab": {
          "base_uri": "https://localhost:8080/"
        },
        "id": "vonNvHVw_ht5",
        "outputId": "b66709db-57ad-4813-cee1-a8f0afba9997"
      },
      "execution_count": null,
      "outputs": [
        {
          "output_type": "stream",
          "name": "stdout",
          "text": [
            "gdrive/MyDrive/data_sets/panoramic/CV_version01/CV_7/fold_0/train/clean/L_10587498.png\n",
            "ls: cannot access 'gdrive/MyDrive/data_sets/panoramic/CV_version01/CV_7/fold_0/val/clean/L_10587498.png': No such file or directory\n",
            "ls: cannot access 'gdrive/MyDrive/data_sets/panoramic/CV_version01/CV_7/fold_0/test/clean/L_10587498.png': No such file or directory\n"
          ]
        }
      ]
    },
    {
      "cell_type": "code",
      "source": [
        "yossi = os.listdir(\"gdrive/MyDrive/data_sets/panoramic/build_yossi_set/train/with_carotid\" )\n",
        "counter = 0\n",
        "for img in yossi:\n",
        "  if img not in carotid_list:\n",
        "    print(counter,img)\n",
        "    shutil.copy(\"gdrive/MyDrive/data_sets/panoramic/build_yossi_set/train/with_carotid/\"+img, \"gdrive/MyDrive/data_sets/panoramic/CV_version01/CV_7/fold_0/train/with_carotid/\"+img)\n",
        "    counter+=1\n",
        "#!cp -r  gdrive/MyDrive/data_sets/panoramic/CV_version01/CV_7/fold_0/train_onlyPoria/ gdrive/MyDrive/data_sets/panoramic/CV_version01/CV_7/fold_0/train"
      ],
      "metadata": {
        "colab": {
          "base_uri": "https://localhost:8080/"
        },
        "id": "2dGcRx-8E8h8",
        "outputId": "493d38d5-a9c0-4bc4-efc7-b53f4f89753b"
      },
      "execution_count": null,
      "outputs": [
        {
          "output_type": "stream",
          "name": "stdout",
          "text": [
            "0 synt7_39_L_3971181201_L_4198855688_margin_50_20.png\n",
            "1 synt7_52_L_3801637202_L_2324102458_margin_50_20.png\n",
            "2 synt7_57_L_10479996_R_4198855688_margin_50_20.png\n",
            "3 synt7_63_L_3971181201_R_4198855688_margin_50_20.png\n",
            "4 synt7_68_L_3801637202_R_3036417066_margin_50_20.png\n",
            "5 synt7_73_L_10479996_L_0046854208_margin_50_20.png\n",
            "6 synt9_120_L_2155883093_cut_L_3333657940_margin_50_20.png\n",
            "7 synt9_183_L_1226075450_L_2543197454_margin_50_20.png\n",
            "8 synt9_187_L_2155883093_R_2543197454_margin_50_20.png\n",
            "9 synt9_21_L_3971181201_L_3785141456_margin_50_20.png\n",
            "10 synt9_231_L_1226075450_L_3768512571_margin_50_20.png\n",
            "11 synt9_24_L_2155883093_cut_L_3785141456_margin_50_20.png\n",
            "12 synt9_267_L_2155883093_R_10644225_margin_50_20.png\n",
            "13 synt9_28_L_2155883093_cut_R_3276214298_margin_50_20.png\n",
            "14 synt9_31_L_1226075450_R_923075711_margin_50_20.png\n",
            "15 synt9_327_L_1226075450_R_10663468_margin_50_20.png\n",
            "16 synt9_35_L_2155883093_L_0890095850_margin_50_20.png\n",
            "17 synt9_54_R_10555144_L_923075711_margin_50_20.png\n",
            "18 synt9_57_L_10479996_R_923075711_margin_50_20.png\n",
            "19 synt9_62_R_10555144_R_923075711_margin_50_20.png\n",
            "20 synt4_53_L_2155883093_L_2324102458_margin_50_20.png\n",
            "21 synt4_56_R_10555144_L_2324102458_margin_50_20.png\n",
            "22 synt4_57_L_10479996_R_4198855688_margin_50_20.png\n",
            "23 synt4_64_R_10555144_R_4198855688_margin_50_20.png\n",
            "24 synt4_68_L_3801637202_R_3036417066_margin_50_20.png\n",
            "25 synt4_70_L_2198219833_R_3036417066_margin_50_20.png\n",
            "26 synt4_73_L_10479996_L_0046854208_margin_50_20.png\n",
            "27 synt4_72_R_10555144_R_3036417066_margin_50_20.png\n",
            "28 synt4_76_L_3801637202_L_0046854208_margin_50_20.png\n",
            "29 synt5_15_L_3971181201_L_4206167726_margin_50_20.png\n",
            "30 synt5_17_L_10479996_R_0312416785_margin_50_20.png\n",
            "31 synt5_16_R_10555144_L_4206167726_margin_50_20.png\n",
            "32 synt5_1_L_10479996_R_4206167726_margin_50_20.png\n",
            "33 synt5_21_L_2155883093_R_0312416785_margin_50_20.png\n",
            "34 synt5_24_R_10555144_R_0312416785_margin_50_20.png\n",
            "35 synt5_31_L_3971181201_L_0312416785_margin_50_20.png\n",
            "36 synt5_36_L_3801637202_L_4198855688_margin_50_20.png\n",
            "37 synt5_39_L_3971181201_L_4198855688_margin_50_20.png\n",
            "38 synt_Tricht_1.png\n",
            "39 synt5_44_L_3801637202_L_3036417066_margin_50_20.png\n",
            "40 synt5_4_L_3801637202_R_4206167726_margin_50_20.png\n",
            "41 synt5_60_L_3801637202_R_4198855688_margin_50_20.png\n",
            "42 synt5_5_L_2155883093_R_4206167726_margin_50_20.png\n",
            "43 synt5_62_L_2198219833_R_4198855688_margin_50_20.png\n",
            "44 synt_Tricht_101.png\n",
            "45 synt5_63_L_3971181201_R_4198855688_margin_50_20.png\n",
            "46 synt5_64_R_10555144_R_4198855688_margin_50_20.png\n",
            "47 synt5_70_L_2198219833_R_3036417066_margin_50_20.png\n",
            "48 synt5_72_R_10555144_R_3036417066_margin_50_20.png\n",
            "49 synt_Tricht_103.png\n",
            "50 synt5_73_L_10479996_L_0046854208_margin_50_20.png\n",
            "51 synt6_12_L_3801637202_L_4206167726_margin_50_20.png\n",
            "52 synt6_22_L_2198219833_R_0312416785_margin_50_20.png\n",
            "53 synt6_15_L_3971181201_L_4206167726_margin_50_20.png\n",
            "54 synt6_1_L_10479996_R_4206167726_margin_50_20.png\n",
            "55 synt6_28_L_3801637202_L_0312416785_margin_50_20.png\n",
            "56 synt_Tricht_106.png\n",
            "57 synt6_30_L_2198219833_L_0312416785_margin_50_20.png\n",
            "58 synt6_9_L_10479996_L_4206167726_margin_50_20.png\n",
            "59 synt6_31_L_3971181201_L_0312416785_margin_50_20.png\n",
            "60 synt_Tricht_109.png\n",
            "61 synt7_16_R_10555144_L_4206167726_margin_50_20.png\n",
            "62 synt7_12_L_3801637202_L_4206167726_margin_50_20.png\n",
            "63 synt7_31_L_3971181201_L_0312416785_margin_50_20.png\n",
            "64 synt7_22_L_2198219833_R_0312416785_margin_50_20.png\n",
            "65 synt7_33_L_10479996_L_4198855688_margin_50_20.png\n",
            "66 synt_Tricht_110.png\n",
            "67 synt_Tricht_34.png\n",
            "68 synt_Tricht_38.png\n",
            "69 synt_Tricht_4.png\n",
            "70 synt_Tricht_40.png\n",
            "71 synt_Tricht_41.png\n",
            "72 synt_Tricht_42.png\n",
            "73 synt_Tricht_44.png\n",
            "74 synt_Tricht_45.png\n",
            "75 synt_Tricht_52.png\n",
            "76 synt_Tricht_55.png\n",
            "77 synt_Tricht_58.png\n",
            "78 synt_Tricht_6.png\n",
            "79 synt_Tricht_62.png\n",
            "80 synt_Tricht_72.png\n",
            "81 synt_Tricht_73.png\n",
            "82 synt_Tricht_74.png\n",
            "83 synt_Tricht_75.png\n",
            "84 synt_Tricht_85.png\n",
            "85 synt_Tricht_90.png\n",
            "86 synt5_97_R_0076391871_L_0312416785_margin_50_20.png\n",
            "87 synt6_10_R_0411146340_cut_L_3333657940_margin_50_20.png\n",
            "88 synt6_10_R_0411146340_R_1204168709_margin_50_20.png\n",
            "89 synt6_12_R_3385285116_R_1204168709_margin_50_20.png\n",
            "90 synt6_232_R_0411146340_R_3910819926_margin_50_20.png\n",
            "91 synt6_241_L_10710947_R_3910819926_margin_50_20.png\n",
            "92 synt6_260_L_3096069734_R_2543197454_margin_50_20.png\n",
            "93 synt6_31_R_0076391871_L_3785141456_margin_50_20.png\n",
            "94 synt6_326_L_3096069734_L_10644225_margin_50_20.png\n",
            "95 synt6_337_L_3096069734_R_10644225_margin_50_20.png\n",
            "96 synt6_3_R_0411146340_cut_L_3634302769_margin_50_20.png\n",
            "97 synt6_454_R_3385285116_L_10700933_margin_50_20.png\n",
            "98 synt6_45_R_0411146340_cut_L_3333657940_margin_50_20.png\n",
            "99 synt6_8_R_3385285116_L_3333657940_margin_50_20.png\n",
            "100 synt_140_R_2967446365_R_4206167726_margin_50_20.png\n",
            "101 synt_19_R_0411146340_R_0046854208_margin_50_20.png\n",
            "102 synt4_10_R_3205858543_L_4206167726_margin_50_20.png\n",
            "103 synt4_112_R_0411146340_R_0078506593_margin_50_20.png\n",
            "104 synt4_11_R_3385285116_L_4206167726_margin_50_20.png\n",
            "105 synt4_121_R_0411146340_L_0078506593_margin_50_20.png\n",
            "106 synt4_122_R_2967446365_L_0078506593_margin_50_20.png\n",
            "107 synt4_124_L_2085248068_L_0078506593_margin_50_20.png\n",
            "108 synt4_126_L_10698804_L_0078506593_margin_50_20.png\n",
            "109 synt4_13_R_0411146340_L_4206167726_margin_50_20.png\n",
            "110 synt4_14_R_2967446365_L_4206167726_margin_50_20.png\n",
            "111 synt4_18_L_10698804_L_4206167726_margin_50_20.png\n",
            "112 synt4_1_R_3205858543_R_4206167726_margin_50_20.png\n",
            "113 synt4_19_R_3205858543_R_0312416785_margin_50_20.png\n",
            "114 synt4_20_R_3385285116_R_0312416785_margin_50_20.png\n",
            "115 synt4_21_R_0076391871_R_0312416785_margin_50_20.png\n",
            "116 synt4_24_R_0411146340_cut_R_0312416785_margin_50_20.png\n",
            "117 synt4_23_R_2967446365_R_0312416785_margin_50_20.png\n",
            "118 synt4_28_R_3205858543_L_0312416785_margin_50_20.png\n",
            "119 synt4_30_R_0076391871_L_0312416785_margin_50_20.png\n",
            "120 synt4_31_R_0411146340_L_0312416785_margin_50_20.png\n",
            "121 synt4_33_R_0411146340_cut_L_0312416785_margin_50_20.png\n",
            "122 synt4_32_R_2967446365_L_0312416785_margin_50_20.png\n",
            "123 synt4_38_R_3385285116_L_4198855688_margin_50_20.png\n",
            "124 synt4_42_R_0411146340_cut_L_4198855688_margin_50_20.png\n",
            "125 synt4_49_R_0411146340_L_3036417066_margin_50_20.png\n",
            "126 synt4_4_R_0411146340_R_4206167726_margin_50_20.png\n",
            "127 synt4_50_R_2967446365_L_3036417066_margin_50_20.png\n",
            "128 synt4_51_R_0411146340_cut_L_3036417066_margin_50_20.png\n",
            "129 synt4_52_L_2085248068_L_3036417066_margin_50_20.png\n",
            "130 synt4_56_R_3385285116_L_2324102458_margin_50_20.png\n",
            "131 synt4_57_R_0076391871_L_2324102458_margin_50_20.png\n",
            "132 synt4_59_L_3096069734_R_4198855688_margin_50_20.png\n",
            "133 synt4_58_R_0411146340_L_2324102458_margin_50_20.png\n",
            "134 synt4_67_R_0411146340_R_4198855688_margin_50_20.png\n",
            "135 synt4_66_R_0076391871_R_4198855688_margin_50_20.png\n",
            "136 synt4_69_R_0411146340_cut_R_4198855688_margin_50_20.png\n",
            "137 synt4_6_R_0411146340_cut_R_4206167726_margin_50_20.png\n",
            "138 synt4_73_R_3205858543_R_3036417066_margin_50_20.png\n",
            "139 synt4_75_L_3096069734_L_0046854208_margin_50_20.png\n",
            "140 synt4_74_L_10481378_L_0046854208_margin_50_20.png\n",
            "141 synt4_74_R_3385285116_R_3036417066_margin_50_20.png\n",
            "142 synt4_81_L_10698804_R_3036417066_margin_50_20.png\n",
            "143 synt4_84_R_0076391871_L_0046854208_margin_50_20.png\n",
            "144 synt4_85_R_0411146340_L_0046854208_margin_50_20.png\n",
            "145 synt4_89_L_10710947_L_0046854208_margin_50_20.png\n",
            "146 synt4_90_L_10698804_L_0046854208_margin_50_20.png\n",
            "147 synt4_91_R_3205858543_R_0046854208_margin_50_20.png\n",
            "148 synt4_97_L_2085248068_R_0046854208_margin_50_20.png\n",
            "149 synt4_98_L_10710947_R_0046854208_margin_50_20.png\n",
            "150 synt5_103_L_2085248068_R_0312416785_margin_50_20.png\n",
            "151 synt5_104_R_0411146340_cut_R_0312416785_margin_50_20.png\n",
            "152 synt5_109_R_0411146340_L_4206167726_margin_50_20.png\n",
            "153 synt5_110_R_2967446365_L_4206167726_margin_50_20.png\n",
            "154 synt5_112_L_2085248068_L_4206167726_margin_50_20.png\n",
            "155 synt5_19_R_0411146340_L_0046854208_margin_50_20.png\n",
            "156 synt5_19_R_3205858543_R_0312416785_margin_50_20.png\n",
            "157 synt5_21_R_0076391871_R_0312416785_margin_50_20.png\n",
            "158 synt5_28_R_0411146340_R_0046854208_margin_50_20.png\n",
            "159 synt5_28_R_3205858543_L_0312416785_margin_50_20.png\n",
            "160 synt5_38_R_2967446365_L_4198855688_margin_50_20.png\n",
            "161 synt5_40_R_0411146340_L_4198855688_margin_50_20.png\n",
            "162 synt5_51_R_0411146340_cut_L_3036417066_margin_50_20.png\n",
            "163 synt5_51_R_3205858543_R_4198855688_margin_50_20.png\n",
            "164 synt5_4_R_0411146340_R_4206167726_margin_50_20.png\n",
            "165 synt5_68_R_2967446365_R_4198855688_margin_50_20.png\n",
            "166 synt5_78_R_3205858543_L_3036417066_margin_50_20.png\n",
            "167 synt5_7_L_2085248068_R_4206167726_margin_50_20.png\n",
            "168 synt5_95_R_2967446365_R_0046854208_margin_50_20.png\n",
            "169 synt5_85_L_2085248068_R_3036417066_margin_50_20.png\n",
            "170 synt7_11_L_3096069734_L_4206167726_margin_50_20.png\n",
            "171 synt7_19_L_3096069734_R_0312416785_margin_50_20.png\n",
            "172 synt8_118_R_0411146340_R_4206167726_margin_50_20.png\n",
            "173 synt7_3_L_3096069734_R_4206167726_margin_50_20.png\n",
            "174 synt8_109_R_0411146340_L_4206167726_margin_50_20.png\n",
            "175 synt8_28_R_0411146340_R_0046854208_margin_50_20.png\n",
            "176 synt8_94_L_2085248068_L_0312416785_margin_50_20.png\n",
            "177 L_805d7f5b207a2ae05050acc9c0849bc9.jpg\n",
            "178 L_8e5d9bddba169f6124853f0843457b85.jpg\n",
            "179 L_a34dbe1db5312e2f61f5832fc12a740e.jpg\n",
            "180 L_bb2beeb0d7d36b51be66bd467a5d07cf.jpg\n",
            "181 R_54462d466c334307a3393143c4559274.jpg\n",
            "182 R_6318ec3de723f814f33daabc4d41d7e8.jpg\n",
            "183 R_63e0d4a714eb8cdd07e2cd54aa5bb8cc.jpg\n",
            "184 R_6a8d0eafae1219e3487e8384948d385c.jpg\n",
            "185 R_7e2feb12ee0d5ab6497ffbdc2e3cded2.jpg\n",
            "186 R_9006a0563260eb711656dbd63dc42535.jpg\n",
            "187 R_b989c5bd4ad71993f56e2a0c6da8b261.jpg\n",
            "188 R_fc4c7de58c992974d3770728d7f3a509.jpg\n",
            "189 L_6318ec3de723f814f33daabc4d41d7e8.jpg\n",
            "190 L_85324f2f4eb826bfaf92f9a35a15d00f.jpg\n",
            "191 R_76bb364783e591892d25e92dbad444d6.jpg\n",
            "192 R_805d7f5b207a2ae05050acc9c0849bc9.jpg\n",
            "193 R_b60b74e43006abd56e958a549ce65356.jpg\n",
            "194 R_cd29c26eb6bc0d2b42f2fddc6e402e2a.jpg\n",
            "195 L_33a1f3031a30a3b1cec0d90202d63cfe.jpg\n",
            "196 L_5a88ba4390b25a2f54581c856cac03cc.jpg\n",
            "197 L_6ea94dd527f13ef2cfb9511163bc7535.jpg\n",
            "198 L_74fb6d371296fab4b9cb17811df25a60.jpg\n",
            "199 L_9d24f7abfc88ef5122a27c7826eff54d.jpg\n",
            "200 L_a7831060f3f0b76c718d042af9b14cc3.jpg\n",
            "201 L_cf0f500e44f00ac77f2abe57db435a63.jpg\n",
            "202 L_f4c835d199c6c872e621fe23a4e389f2.jpg\n",
            "203 L_fc4c7de58c992974d3770728d7f3a509.jpg\n",
            "204 R_529bbd2dd6cc19970d1b0d3b838c01d1.jpg\n",
            "205 R_7ae194aca8cf536559f59b61eb39c9ad.jpg\n",
            "206 R_99c4d4a3cf6fcbfcad9e59fd7f241cd2.jpg\n",
            "207 R_aef708eb099c5c08a3aa42477d42959d.jpg\n",
            "208 R_c422687252e6e371a51c4e04e8c5552d.jpg\n",
            "209 R_ce7b576a41c4ba1c7f03b31b977c18ac.jpg\n",
            "210 R_cf0f500e44f00ac77f2abe57db435a63.jpg\n",
            "211 L_59745e5981fc5438b7598b17b2b8a39e.jpg\n",
            "212 L_6a8d0eafae1219e3487e8384948d385c.jpg\n",
            "213 L_72f9a6c2cf42437a39ef8ed4e69ede07.jpg\n",
            "214 L_cd3bda446a0d8fcb17b5563911a6ac55.jpg\n",
            "215 L_fca523693b33518dac5d0998134d5d7f.jpg\n",
            "216 R_47389035688cd8b81689ff5061371cee.jpg\n",
            "217 R_4d604370ab7b965493645c8caea64289.jpg\n",
            "218 R_4f537c9608ffc8f69fb6257717c25a85.jpg\n",
            "219 R_5fd397f167c2a849e5d1db2c44ad9d87.jpg\n",
            "220 R_72f9a6c2cf42437a39ef8ed4e69ede07.jpg\n",
            "221 R_856e685f919d59a5ec3461e049d9a97c.jpg\n",
            "222 R_a34dbe1db5312e2f61f5832fc12a740e.jpg\n",
            "223 L_12ba6de25e5516037aa9191ba549b22e.jpg\n",
            "224 L_3e84309bfbeed0ab90d0c96550775812.jpg\n",
            "225 L_977e79c2a92706a92643d0a5f374c1bd.jpg\n",
            "226 L_980ea40efc89c9c59f232b75f7e2a70f.jpg\n",
            "227 L_c422687252e6e371a51c4e04e8c5552d.jpg\n",
            "228 L_f4aa5b07578da1cff09a7ba123078edd.jpg\n",
            "229 R_a73d09018459a97b9f0091db01a9e2f2.jpg\n",
            "230 R_ace45d0e3b2920bf42e8849aa0a70a37.jpg\n",
            "231 R_bebe02a634a81a7d44609fd2acc91f80.jpg\n",
            "232 R_eab361248858c93728c88db4cd5e01a2.jpg\n",
            "233 R_f4aa5b07578da1cff09a7ba123078edd.jpg\n",
            "234 L_6de5734a8b6020c8d1f7049b17c69379.jpg\n",
            "235 L_79c1b06933f7f96deb6b7825a6bf739e.jpg\n",
            "236 L_aebec7ba0a66d334bb711f4a49c658fb.jpg\n",
            "237 L_c04d19b20f496a70f62bb140ffd9b25e.jpg\n",
            "238 R_35a83cd4af3d13e412fb75ba1d22eb21.jpg\n",
            "239 R_b75fc83a3cdbe2c989f4ce1c7cd3527d.jpg\n",
            "240 L_14d6864b7daba1cf294f417a4adb4958.jpg\n",
            "241 L_1e803f3f547464230e5a69f5ecc42239.jpg\n",
            "242 L_1ace646afa3a6260acb7b784af270335.jpg\n",
            "243 L_322283501314299077c27fe6a0d310f1.jpg\n",
            "244 L_6ff2368f481e0dc644e50db5e70b3aed.jpg\n",
            "245 L_7f738571ae603d0e02d95579a98a96d1.jpg\n",
            "246 L_9e21720a9da8676352c19df4e8e1eef3.jpg\n",
            "247 L_b60b74e43006abd56e958a549ce65356.jpg\n",
            "248 L_a6f2c3212e9370f14879662c0822d2af.jpg\n",
            "249 R_352894bd624aa82d325de1e8dfc7d83b.jpg\n",
            "250 R_5c2370bd248ddefe5d007a3baa03b1dd.jpg\n",
            "251 R_25f237736135568cfc9a77c2bb4bbc48.jpg\n",
            "252 R_5c39dc724c2dbe643222829f7aafc95a.jpg\n",
            "253 L_bebe02a634a81a7d44609fd2acc91f80.jpg\n",
            "254 L_da932b7bf1ae5bf8a1ee56830f95875a.jpg\n",
            "255 L_ea394c6542113ae80dac89f2cf3bf4f8.jpg\n",
            "256 R_2e3c301fcde735e7473cbf6522e53517.jpg\n",
            "257 L_1c0e412e5f7a14b3726399ef91a95018.jpg\n",
            "258 R_322283501314299077c27fe6a0d310f1.jpg\n",
            "259 R_4822e5e2593b6b5f561573d5deefa175.jpg\n",
            "260 L_934b49cfedd44f70d2fba43b49a3cf7e.jpg\n",
            "261 L_4822e5e2593b6b5f561573d5deefa175.jpg\n",
            "262 L_90a5a130eaa901f7af0e56cc2d5b5a4b.jpg\n",
            "263 R_5f24c3a0732c3da203efc256d3f9ad44.jpg\n",
            "264 L_6a6a2e0887092d9b1b2197a35b27fe7e.jpg\n",
            "265 R_63b675892e3004489a365a720a6fa88c.jpg\n",
            "266 R_8ad4a1804e5558538eb441573fc4f435.jpg\n",
            "267 L_b586d59c7e93293c04a9f7e7e9eea794.jpg\n",
            "268 R_d1d951265b9503a3a9e947ceffc2247f.jpg\n",
            "269 L_ce7b576a41c4ba1c7f03b31b977c18ac.jpg\n",
            "270 L_d628b3851af584b9df3005492dd3984d.jpg\n",
            "271 R_fc0a5794859839bb43dc726e78548916.jpg\n",
            "272 R_fca523693b33518dac5d0998134d5d7f.jpg\n",
            "273 L_dcfd167c24940c47381b8e56d31c0aff.jpg\n",
            "274 R_0c723db22ef2f6e505e48881a406d47a.jpg\n",
            "275 R_032001eac645e37a618875ad2f42cb08.jpg\n",
            "276 R_2d9343f8acfcf9f781c552ca6de75c93.jpg\n",
            "277 R_1ace646afa3a6260acb7b784af270335.jpg\n",
            "278 L_ebc4d0d16fd9c1c34b15c7b369b77ffe.jpg\n",
            "279 R_38af2ead9a5a0603edb88f2c1b9e60c5.jpg\n",
            "280 R_58b387c30ab2e46cadd215facb93cb3a.jpg\n",
            "281 R_580ea67e7292541ac1b91cc5e1c68102.jpg\n",
            "282 R_85324f2f4eb826bfaf92f9a35a15d00f.jpg\n",
            "283 R_c2167890ff8b1e02931d720e119636ab.jpg\n",
            "284 R_9d34309a548e71a901cec60642323f41.jpg\n",
            "285 R_c934c218e4a363f9677060183720f360.jpg\n",
            "286 R_9e21720a9da8676352c19df4e8e1eef3.jpg\n",
            "287 synt4_41_R_2967446365_L_4198855688_margin_50_20.png\n",
            "288 synt4_43_L_2085248068_L_4198855688_margin_50_20.png\n",
            "289 synt4_55_R_3205858543_L_2324102458_margin_50_20.png\n",
            "290 synt4_67_L_3096069734_R_3036417066_margin_50_20.png\n",
            "291 synt4_82_R_3205858543_L_0046854208_margin_50_20.png\n",
            "292 synt4_8_L_10710947_R_4206167726_margin_50_20.png\n",
            "293 synt4_95_R_2967446365_R_0046854208_margin_50_20.png\n",
            "294 synt5_10_R_3205858543_L_4206167726_margin_50_20.png\n",
            "295 synt5_12_R_3385285116_R_0078506593_margin_50_20.png\n",
            "296 synt5_17_L_10710947_L_4206167726_margin_50_20.png\n",
            "297 synt5_1_R_3205858543_R_4206167726_margin_50_20.png\n",
            "298 synt5_37_R_3205858543_L_4198855688_margin_50_20.png\n",
            "299 synt5_73_R_3205858543_R_3036417066_margin_50_20.png\n",
            "300 synt5_82_R_3205858543_L_0046854208_margin_50_20.png\n",
            "301 synt7_10_L_10481378_L_4206167726_margin_50_20.png\n",
            "302 synt7_35_L_3096069734_L_4198855688_margin_50_20.png\n",
            "303 synt7_59_L_3096069734_R_4198855688_margin_50_20.png\n",
            "304 synt8_98_L_10710947_L_0312416785_margin_50_20.png\n",
            "305 synt6_210_R_0411146340_R_1204168709_margin_50_20.png\n",
            "306 synt4_22_R_0411146340_R_0312416785_margin_50_20.png\n",
            "307 synt4_125_L_10710947_L_0078506593_margin_50_20.png\n",
            "308 synt4_26_L_10710947_R_0312416785_margin_50_20.png\n",
            "309 synt4_25_L_2085248068_R_0312416785_margin_50_20.png\n",
            "310 synt4_118_R_3205858543_L_0078506593_margin_50_20.png\n"
          ]
        }
      ]
    }
  ]
}